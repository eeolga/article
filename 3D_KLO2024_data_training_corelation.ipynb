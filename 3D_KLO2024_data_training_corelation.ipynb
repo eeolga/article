{
  "nbformat": 4,
  "nbformat_minor": 0,
  "metadata": {
    "colab": {
      "provenance": [],
      "authorship_tag": "ABX9TyN3C6/sfg/OX45MJlvLsab3",
      "include_colab_link": true
    },
    "kernelspec": {
      "name": "python3",
      "display_name": "Python 3"
    },
    "language_info": {
      "name": "python"
    }
  },
  "cells": [
    {
      "cell_type": "markdown",
      "metadata": {
        "id": "view-in-github",
        "colab_type": "text"
      },
      "source": [
        "<a href=\"https://colab.research.google.com/github/eeolga/article/blob/main/3D_KLO2024_data_training_corelation.ipynb\" target=\"_parent\"><img src=\"https://colab.research.google.com/assets/colab-badge.svg\" alt=\"Open In Colab\"/></a>"
      ]
    },
    {
      "cell_type": "code",
      "execution_count": null,
      "metadata": {
        "id": "YTgEkR34P0BW"
      },
      "outputs": [],
      "source": [
        "import numpy as np\n",
        "import torch\n",
        "import torch.nn as nn"
      ]
    },
    {
      "cell_type": "code",
      "source": [
        "import pandas as pd"
      ],
      "metadata": {
        "id": "0bILK19qQ3zK"
      },
      "execution_count": null,
      "outputs": []
    },
    {
      "cell_type": "code",
      "source": [
        "CAD_path=\"/content/CAD_KLO_07082024.xlsx\""
      ],
      "metadata": {
        "id": "zS7wIU2_Q94X"
      },
      "execution_count": null,
      "outputs": []
    },
    {
      "cell_type": "markdown",
      "source": [
        "CAD_logs file data"
      ],
      "metadata": {
        "id": "CmDPARR3lxNS"
      }
    },
    {
      "cell_type": "code",
      "source": [
        "data = pd.read_excel(\"/content/CAD_KLO_07082024.xlsx\")"
      ],
      "metadata": {
        "id": "iykwzNK9RZIt"
      },
      "execution_count": null,
      "outputs": []
    },
    {
      "cell_type": "code",
      "source": [
        "display(pd.DataFrame(data))"
      ],
      "metadata": {
        "colab": {
          "base_uri": "https://localhost:8080/",
          "height": 423
        },
        "id": "93-TVUaQRfXr",
        "outputId": "17b7710f-c047-4e7f-fe85-4643b823394e"
      },
      "execution_count": null,
      "outputs": [
        {
          "output_type": "display_data",
          "data": {
            "text/plain": [
              "               timestamp  user_id  tool_id  competency  activity_id  \\\n",
              "0     17/05/24, 13:10:11    29455     3299           1        20706   \n",
              "1     17/05/24, 13:10:11    29455   233156           1        20807   \n",
              "2     17/05/24, 13:09:51    29455     3299           1        20706   \n",
              "3     17/05/24, 13:09:49    29455   233156           1        20807   \n",
              "4     17/05/24, 13:02:38    29455     3299           1        20706   \n",
              "...                  ...      ...      ...         ...          ...   \n",
              "5650   9/02/24, 19:54:20    29455     2949           0        10103   \n",
              "5651   9/02/24, 19:53:27    29455     2949           0        10103   \n",
              "5652   9/02/24, 19:53:27    29455     2949           0        10102   \n",
              "5653   9/02/24, 19:53:27    29455     2949           0        10102   \n",
              "5654   9/02/24, 19:53:27    29455     2949           0        10101   \n",
              "\n",
              "           date      time  lesson  \n",
              "0    2024-05-17  13:10:11       1  \n",
              "1    2024-05-17  13:10:11       1  \n",
              "2    2024-05-17  13:09:51       1  \n",
              "3    2024-05-17  13:09:49       1  \n",
              "4    2024-05-17  13:02:38       1  \n",
              "...         ...       ...     ...  \n",
              "5650 2024-02-09  19:54:20       0  \n",
              "5651 2024-02-09  19:53:27       0  \n",
              "5652 2024-02-09  19:53:27       0  \n",
              "5653 2024-02-09  19:53:27       0  \n",
              "5654 2024-02-09  19:53:27       0  \n",
              "\n",
              "[5655 rows x 8 columns]"
            ],
            "text/html": [
              "\n",
              "  <div id=\"df-1fb7b6fc-3bff-4790-9817-357e98636a4f\" class=\"colab-df-container\">\n",
              "    <div>\n",
              "<style scoped>\n",
              "    .dataframe tbody tr th:only-of-type {\n",
              "        vertical-align: middle;\n",
              "    }\n",
              "\n",
              "    .dataframe tbody tr th {\n",
              "        vertical-align: top;\n",
              "    }\n",
              "\n",
              "    .dataframe thead th {\n",
              "        text-align: right;\n",
              "    }\n",
              "</style>\n",
              "<table border=\"1\" class=\"dataframe\">\n",
              "  <thead>\n",
              "    <tr style=\"text-align: right;\">\n",
              "      <th></th>\n",
              "      <th>timestamp</th>\n",
              "      <th>user_id</th>\n",
              "      <th>tool_id</th>\n",
              "      <th>competency</th>\n",
              "      <th>activity_id</th>\n",
              "      <th>date</th>\n",
              "      <th>time</th>\n",
              "      <th>lesson</th>\n",
              "    </tr>\n",
              "  </thead>\n",
              "  <tbody>\n",
              "    <tr>\n",
              "      <th>0</th>\n",
              "      <td>17/05/24, 13:10:11</td>\n",
              "      <td>29455</td>\n",
              "      <td>3299</td>\n",
              "      <td>1</td>\n",
              "      <td>20706</td>\n",
              "      <td>2024-05-17</td>\n",
              "      <td>13:10:11</td>\n",
              "      <td>1</td>\n",
              "    </tr>\n",
              "    <tr>\n",
              "      <th>1</th>\n",
              "      <td>17/05/24, 13:10:11</td>\n",
              "      <td>29455</td>\n",
              "      <td>233156</td>\n",
              "      <td>1</td>\n",
              "      <td>20807</td>\n",
              "      <td>2024-05-17</td>\n",
              "      <td>13:10:11</td>\n",
              "      <td>1</td>\n",
              "    </tr>\n",
              "    <tr>\n",
              "      <th>2</th>\n",
              "      <td>17/05/24, 13:09:51</td>\n",
              "      <td>29455</td>\n",
              "      <td>3299</td>\n",
              "      <td>1</td>\n",
              "      <td>20706</td>\n",
              "      <td>2024-05-17</td>\n",
              "      <td>13:09:51</td>\n",
              "      <td>1</td>\n",
              "    </tr>\n",
              "    <tr>\n",
              "      <th>3</th>\n",
              "      <td>17/05/24, 13:09:49</td>\n",
              "      <td>29455</td>\n",
              "      <td>233156</td>\n",
              "      <td>1</td>\n",
              "      <td>20807</td>\n",
              "      <td>2024-05-17</td>\n",
              "      <td>13:09:49</td>\n",
              "      <td>1</td>\n",
              "    </tr>\n",
              "    <tr>\n",
              "      <th>4</th>\n",
              "      <td>17/05/24, 13:02:38</td>\n",
              "      <td>29455</td>\n",
              "      <td>3299</td>\n",
              "      <td>1</td>\n",
              "      <td>20706</td>\n",
              "      <td>2024-05-17</td>\n",
              "      <td>13:02:38</td>\n",
              "      <td>1</td>\n",
              "    </tr>\n",
              "    <tr>\n",
              "      <th>...</th>\n",
              "      <td>...</td>\n",
              "      <td>...</td>\n",
              "      <td>...</td>\n",
              "      <td>...</td>\n",
              "      <td>...</td>\n",
              "      <td>...</td>\n",
              "      <td>...</td>\n",
              "      <td>...</td>\n",
              "    </tr>\n",
              "    <tr>\n",
              "      <th>5650</th>\n",
              "      <td>9/02/24, 19:54:20</td>\n",
              "      <td>29455</td>\n",
              "      <td>2949</td>\n",
              "      <td>0</td>\n",
              "      <td>10103</td>\n",
              "      <td>2024-02-09</td>\n",
              "      <td>19:54:20</td>\n",
              "      <td>0</td>\n",
              "    </tr>\n",
              "    <tr>\n",
              "      <th>5651</th>\n",
              "      <td>9/02/24, 19:53:27</td>\n",
              "      <td>29455</td>\n",
              "      <td>2949</td>\n",
              "      <td>0</td>\n",
              "      <td>10103</td>\n",
              "      <td>2024-02-09</td>\n",
              "      <td>19:53:27</td>\n",
              "      <td>0</td>\n",
              "    </tr>\n",
              "    <tr>\n",
              "      <th>5652</th>\n",
              "      <td>9/02/24, 19:53:27</td>\n",
              "      <td>29455</td>\n",
              "      <td>2949</td>\n",
              "      <td>0</td>\n",
              "      <td>10102</td>\n",
              "      <td>2024-02-09</td>\n",
              "      <td>19:53:27</td>\n",
              "      <td>0</td>\n",
              "    </tr>\n",
              "    <tr>\n",
              "      <th>5653</th>\n",
              "      <td>9/02/24, 19:53:27</td>\n",
              "      <td>29455</td>\n",
              "      <td>2949</td>\n",
              "      <td>0</td>\n",
              "      <td>10102</td>\n",
              "      <td>2024-02-09</td>\n",
              "      <td>19:53:27</td>\n",
              "      <td>0</td>\n",
              "    </tr>\n",
              "    <tr>\n",
              "      <th>5654</th>\n",
              "      <td>9/02/24, 19:53:27</td>\n",
              "      <td>29455</td>\n",
              "      <td>2949</td>\n",
              "      <td>0</td>\n",
              "      <td>10101</td>\n",
              "      <td>2024-02-09</td>\n",
              "      <td>19:53:27</td>\n",
              "      <td>0</td>\n",
              "    </tr>\n",
              "  </tbody>\n",
              "</table>\n",
              "<p>5655 rows × 8 columns</p>\n",
              "</div>\n",
              "    <div class=\"colab-df-buttons\">\n",
              "\n",
              "  <div class=\"colab-df-container\">\n",
              "    <button class=\"colab-df-convert\" onclick=\"convertToInteractive('df-1fb7b6fc-3bff-4790-9817-357e98636a4f')\"\n",
              "            title=\"Convert this dataframe to an interactive table.\"\n",
              "            style=\"display:none;\">\n",
              "\n",
              "  <svg xmlns=\"http://www.w3.org/2000/svg\" height=\"24px\" viewBox=\"0 -960 960 960\">\n",
              "    <path d=\"M120-120v-720h720v720H120Zm60-500h600v-160H180v160Zm220 220h160v-160H400v160Zm0 220h160v-160H400v160ZM180-400h160v-160H180v160Zm440 0h160v-160H620v160ZM180-180h160v-160H180v160Zm440 0h160v-160H620v160Z\"/>\n",
              "  </svg>\n",
              "    </button>\n",
              "\n",
              "  <style>\n",
              "    .colab-df-container {\n",
              "      display:flex;\n",
              "      gap: 12px;\n",
              "    }\n",
              "\n",
              "    .colab-df-convert {\n",
              "      background-color: #E8F0FE;\n",
              "      border: none;\n",
              "      border-radius: 50%;\n",
              "      cursor: pointer;\n",
              "      display: none;\n",
              "      fill: #1967D2;\n",
              "      height: 32px;\n",
              "      padding: 0 0 0 0;\n",
              "      width: 32px;\n",
              "    }\n",
              "\n",
              "    .colab-df-convert:hover {\n",
              "      background-color: #E2EBFA;\n",
              "      box-shadow: 0px 1px 2px rgba(60, 64, 67, 0.3), 0px 1px 3px 1px rgba(60, 64, 67, 0.15);\n",
              "      fill: #174EA6;\n",
              "    }\n",
              "\n",
              "    .colab-df-buttons div {\n",
              "      margin-bottom: 4px;\n",
              "    }\n",
              "\n",
              "    [theme=dark] .colab-df-convert {\n",
              "      background-color: #3B4455;\n",
              "      fill: #D2E3FC;\n",
              "    }\n",
              "\n",
              "    [theme=dark] .colab-df-convert:hover {\n",
              "      background-color: #434B5C;\n",
              "      box-shadow: 0px 1px 3px 1px rgba(0, 0, 0, 0.15);\n",
              "      filter: drop-shadow(0px 1px 2px rgba(0, 0, 0, 0.3));\n",
              "      fill: #FFFFFF;\n",
              "    }\n",
              "  </style>\n",
              "\n",
              "    <script>\n",
              "      const buttonEl =\n",
              "        document.querySelector('#df-1fb7b6fc-3bff-4790-9817-357e98636a4f button.colab-df-convert');\n",
              "      buttonEl.style.display =\n",
              "        google.colab.kernel.accessAllowed ? 'block' : 'none';\n",
              "\n",
              "      async function convertToInteractive(key) {\n",
              "        const element = document.querySelector('#df-1fb7b6fc-3bff-4790-9817-357e98636a4f');\n",
              "        const dataTable =\n",
              "          await google.colab.kernel.invokeFunction('convertToInteractive',\n",
              "                                                    [key], {});\n",
              "        if (!dataTable) return;\n",
              "\n",
              "        const docLinkHtml = 'Like what you see? Visit the ' +\n",
              "          '<a target=\"_blank\" href=https://colab.research.google.com/notebooks/data_table.ipynb>data table notebook</a>'\n",
              "          + ' to learn more about interactive tables.';\n",
              "        element.innerHTML = '';\n",
              "        dataTable['output_type'] = 'display_data';\n",
              "        await google.colab.output.renderOutput(dataTable, element);\n",
              "        const docLink = document.createElement('div');\n",
              "        docLink.innerHTML = docLinkHtml;\n",
              "        element.appendChild(docLink);\n",
              "      }\n",
              "    </script>\n",
              "  </div>\n",
              "\n",
              "\n",
              "<div id=\"df-e63bacd7-5bad-4857-8f12-922d32e39547\">\n",
              "  <button class=\"colab-df-quickchart\" onclick=\"quickchart('df-e63bacd7-5bad-4857-8f12-922d32e39547')\"\n",
              "            title=\"Suggest charts\"\n",
              "            style=\"display:none;\">\n",
              "\n",
              "<svg xmlns=\"http://www.w3.org/2000/svg\" height=\"24px\"viewBox=\"0 0 24 24\"\n",
              "     width=\"24px\">\n",
              "    <g>\n",
              "        <path d=\"M19 3H5c-1.1 0-2 .9-2 2v14c0 1.1.9 2 2 2h14c1.1 0 2-.9 2-2V5c0-1.1-.9-2-2-2zM9 17H7v-7h2v7zm4 0h-2V7h2v10zm4 0h-2v-4h2v4z\"/>\n",
              "    </g>\n",
              "</svg>\n",
              "  </button>\n",
              "\n",
              "<style>\n",
              "  .colab-df-quickchart {\n",
              "      --bg-color: #E8F0FE;\n",
              "      --fill-color: #1967D2;\n",
              "      --hover-bg-color: #E2EBFA;\n",
              "      --hover-fill-color: #174EA6;\n",
              "      --disabled-fill-color: #AAA;\n",
              "      --disabled-bg-color: #DDD;\n",
              "  }\n",
              "\n",
              "  [theme=dark] .colab-df-quickchart {\n",
              "      --bg-color: #3B4455;\n",
              "      --fill-color: #D2E3FC;\n",
              "      --hover-bg-color: #434B5C;\n",
              "      --hover-fill-color: #FFFFFF;\n",
              "      --disabled-bg-color: #3B4455;\n",
              "      --disabled-fill-color: #666;\n",
              "  }\n",
              "\n",
              "  .colab-df-quickchart {\n",
              "    background-color: var(--bg-color);\n",
              "    border: none;\n",
              "    border-radius: 50%;\n",
              "    cursor: pointer;\n",
              "    display: none;\n",
              "    fill: var(--fill-color);\n",
              "    height: 32px;\n",
              "    padding: 0;\n",
              "    width: 32px;\n",
              "  }\n",
              "\n",
              "  .colab-df-quickchart:hover {\n",
              "    background-color: var(--hover-bg-color);\n",
              "    box-shadow: 0 1px 2px rgba(60, 64, 67, 0.3), 0 1px 3px 1px rgba(60, 64, 67, 0.15);\n",
              "    fill: var(--button-hover-fill-color);\n",
              "  }\n",
              "\n",
              "  .colab-df-quickchart-complete:disabled,\n",
              "  .colab-df-quickchart-complete:disabled:hover {\n",
              "    background-color: var(--disabled-bg-color);\n",
              "    fill: var(--disabled-fill-color);\n",
              "    box-shadow: none;\n",
              "  }\n",
              "\n",
              "  .colab-df-spinner {\n",
              "    border: 2px solid var(--fill-color);\n",
              "    border-color: transparent;\n",
              "    border-bottom-color: var(--fill-color);\n",
              "    animation:\n",
              "      spin 1s steps(1) infinite;\n",
              "  }\n",
              "\n",
              "  @keyframes spin {\n",
              "    0% {\n",
              "      border-color: transparent;\n",
              "      border-bottom-color: var(--fill-color);\n",
              "      border-left-color: var(--fill-color);\n",
              "    }\n",
              "    20% {\n",
              "      border-color: transparent;\n",
              "      border-left-color: var(--fill-color);\n",
              "      border-top-color: var(--fill-color);\n",
              "    }\n",
              "    30% {\n",
              "      border-color: transparent;\n",
              "      border-left-color: var(--fill-color);\n",
              "      border-top-color: var(--fill-color);\n",
              "      border-right-color: var(--fill-color);\n",
              "    }\n",
              "    40% {\n",
              "      border-color: transparent;\n",
              "      border-right-color: var(--fill-color);\n",
              "      border-top-color: var(--fill-color);\n",
              "    }\n",
              "    60% {\n",
              "      border-color: transparent;\n",
              "      border-right-color: var(--fill-color);\n",
              "    }\n",
              "    80% {\n",
              "      border-color: transparent;\n",
              "      border-right-color: var(--fill-color);\n",
              "      border-bottom-color: var(--fill-color);\n",
              "    }\n",
              "    90% {\n",
              "      border-color: transparent;\n",
              "      border-bottom-color: var(--fill-color);\n",
              "    }\n",
              "  }\n",
              "</style>\n",
              "\n",
              "  <script>\n",
              "    async function quickchart(key) {\n",
              "      const quickchartButtonEl =\n",
              "        document.querySelector('#' + key + ' button');\n",
              "      quickchartButtonEl.disabled = true;  // To prevent multiple clicks.\n",
              "      quickchartButtonEl.classList.add('colab-df-spinner');\n",
              "      try {\n",
              "        const charts = await google.colab.kernel.invokeFunction(\n",
              "            'suggestCharts', [key], {});\n",
              "      } catch (error) {\n",
              "        console.error('Error during call to suggestCharts:', error);\n",
              "      }\n",
              "      quickchartButtonEl.classList.remove('colab-df-spinner');\n",
              "      quickchartButtonEl.classList.add('colab-df-quickchart-complete');\n",
              "    }\n",
              "    (() => {\n",
              "      let quickchartButtonEl =\n",
              "        document.querySelector('#df-e63bacd7-5bad-4857-8f12-922d32e39547 button');\n",
              "      quickchartButtonEl.style.display =\n",
              "        google.colab.kernel.accessAllowed ? 'block' : 'none';\n",
              "    })();\n",
              "  </script>\n",
              "</div>\n",
              "\n",
              "    </div>\n",
              "  </div>\n"
            ],
            "application/vnd.google.colaboratory.intrinsic+json": {
              "type": "dataframe",
              "summary": "{\n  \"name\": \"display(pd\",\n  \"rows\": 5655,\n  \"fields\": [\n    {\n      \"column\": \"timestamp\",\n      \"properties\": {\n        \"dtype\": \"object\",\n        \"num_unique_values\": 3580,\n        \"samples\": [\n          \"14/05/24, 21:16:53\",\n          \"13/05/24, 23:29:12\",\n          \"25/04/24, 11:43:01\"\n        ],\n        \"semantic_type\": \"\",\n        \"description\": \"\"\n      }\n    },\n    {\n      \"column\": \"user_id\",\n      \"properties\": {\n        \"dtype\": \"number\",\n        \"std\": 1872,\n        \"min\": 23356,\n        \"max\": 29728,\n        \"num_unique_values\": 13,\n        \"samples\": [\n          23356,\n          26393,\n          29455\n        ],\n        \"semantic_type\": \"\",\n        \"description\": \"\"\n      }\n    },\n    {\n      \"column\": \"tool_id\",\n      \"properties\": {\n        \"dtype\": \"number\",\n        \"std\": 115750,\n        \"min\": 2949,\n        \"max\": 260047,\n        \"num_unique_values\": 31,\n        \"samples\": [\n          3296,\n          233166,\n          233140\n        ],\n        \"semantic_type\": \"\",\n        \"description\": \"\"\n      }\n    },\n    {\n      \"column\": \"competency\",\n      \"properties\": {\n        \"dtype\": \"number\",\n        \"std\": 1,\n        \"min\": 0,\n        \"max\": 4,\n        \"num_unique_values\": 5,\n        \"samples\": [\n          3,\n          0,\n          4\n        ],\n        \"semantic_type\": \"\",\n        \"description\": \"\"\n      }\n    },\n    {\n      \"column\": \"activity_id\",\n      \"properties\": {\n        \"dtype\": \"number\",\n        \"std\": 13906,\n        \"min\": 10101,\n        \"max\": 51015,\n        \"num_unique_values\": 56,\n        \"samples\": [\n          20706,\n          50807,\n          51014\n        ],\n        \"semantic_type\": \"\",\n        \"description\": \"\"\n      }\n    },\n    {\n      \"column\": \"date\",\n      \"properties\": {\n        \"dtype\": \"date\",\n        \"min\": \"2024-02-09 00:00:00\",\n        \"max\": \"2024-06-14 00:00:00\",\n        \"num_unique_values\": 84,\n        \"samples\": [\n          \"2024-03-21 00:00:00\",\n          \"2024-05-17 00:00:00\",\n          \"2024-04-10 00:00:00\"\n        ],\n        \"semantic_type\": \"\",\n        \"description\": \"\"\n      }\n    },\n    {\n      \"column\": \"time\",\n      \"properties\": {\n        \"dtype\": \"object\",\n        \"num_unique_values\": 3454,\n        \"samples\": [\n          \"22:11:40\",\n          \"14:33:20\",\n          \"09:43:22\"\n        ],\n        \"semantic_type\": \"\",\n        \"description\": \"\"\n      }\n    },\n    {\n      \"column\": \"lesson\",\n      \"properties\": {\n        \"dtype\": \"number\",\n        \"std\": 0,\n        \"min\": 0,\n        \"max\": 1,\n        \"num_unique_values\": 2,\n        \"samples\": [\n          0,\n          1\n        ],\n        \"semantic_type\": \"\",\n        \"description\": \"\"\n      }\n    }\n  ]\n}"
            }
          },
          "metadata": {}
        }
      ]
    },
    {
      "source": [
        "import torch.optim as optim\n",
        "from sklearn.model_selection import train_test_split\n",
        "from sklearn.preprocessing import StandardScaler\n",
        "from sklearn.metrics import classification_report\n",
        "import matplotlib.pyplot as plt\n",
        "import seaborn as sns\n",
        "sns.set(style=\"darkgrid\")\n",
        "\n",
        "# Load Data from Excel\n",
        "file_path = '/content/CAD_KLO_07082024.xlsx'\n",
        "data = pd.read_excel(file_path)\n",
        "\n",
        "# Print the column names to verify 'competency' exists\n",
        "print(data.columns)\n",
        "\n",
        "# Assuming your Excel file has columns 'features' and 'target'\n",
        "# Adjust 'competency' to the actual column name if necessary\n",
        "X = data.drop('competency', axis=1)\n",
        "y = data['competency'].values\n",
        "\n",
        "# Identify non-numeric columns\n",
        "non_numeric_cols = X.select_dtypes(exclude=['number']).columns\n",
        "print(\"Non-numeric columns:\", non_numeric_cols)\n",
        "\n",
        "# Handle non-numeric columns (example: drop them)\n",
        "X = X.drop(non_numeric_cols, axis=1).values\n",
        "\n",
        "# Ensure target values are 0 or 1\n",
        "y = (y == 1).astype(float)\n",
        "\n",
        "#  Preprocess Data\n",
        "X_train, X_test, y_train, y_test = train_test_split(X, y, test_size=0.2, random_state=42)\n",
        "scaler = StandardScaler()\n",
        "X_train = scaler.fit_transform(X_train)\n",
        "X_test = scaler.transform(X_test)\n",
        "X_train = torch.tensor(X_train, dtype=torch.float32)\n",
        "y_train = torch.tensor(y_train, dtype=torch.float32).unsqueeze(1)\n",
        "X_test = torch.tensor(X_test, dtype=torch.float32)\n",
        "y_test = torch.tensor(y_test, dtype=torch.float32).unsqueeze(1)\n",
        "\n",
        "# Define the Model\n",
        "class ImprovedNN(nn.Module):\n",
        "    def __init__(self, input_dim):\n",
        "        super(ImprovedNN, self).__init__()\n",
        "        self.layer1 = nn.Linear(input_dim, 128)\n",
        "        self.layer2 = nn.Linear(128, 64)\n",
        "        self.layer3 = nn.Linear(64, 32)\n",
        "        self.layer4 = nn.Linear(32, 1)\n",
        "\n",
        "    def forward(self, x):\n",
        "        x = torch.relu(self.layer1(x))\n",
        "        x = torch.relu(self.layer2(x))\n",
        "        x = torch.relu(self.layer3(x))\n",
        "        x = torch.sigmoid(self.layer4(x))\n",
        "        return x\n",
        "\n",
        "input_dim = X_train.shape[1]\n",
        "model = ImprovedNN(input_dim)\n",
        "\n",
        "# SDefine Loss Function and Optimizer\n",
        "criterion = nn.BCELoss()  # Binary Cross-Entropy Loss\n",
        "optimizer = optim.Adam(model.parameters(), lr=0.01)\n",
        "\n",
        "# Train the Model\n",
        "num_epochs = 100\n",
        "training_losses = []\n",
        "validation_losses = []\n",
        "\n",
        "for epoch in range(num_epochs):\n",
        "    model.train()\n",
        "    outputs = model(X_train)\n",
        "    loss = criterion(outputs, y_train)\n",
        "    optimizer.zero_grad()\n",
        "    loss.backward()\n",
        "    optimizer.step()\n",
        "    training_losses.append(loss.item())\n",
        "\n",
        "    model.eval()\n",
        "    with torch.no_grad():\n",
        "        val_outputs = model(X_test)\n",
        "        val_loss = criterion(val_outputs, y_test)\n",
        "        validation_losses.append(val_loss.item())\n",
        "\n",
        "    if (epoch+1) % 10 == 0:\n",
        "        print(f'Epoch [{epoch+1}/{num_epochs}], Loss: {loss.item():.4f}, Val Loss: {val_loss.item():.4f}')\n",
        "\n",
        "plt.plot(training_losses, label='Training Loss')\n",
        "plt.plot(validation_losses, label='Validation Loss')\n",
        "plt.xlabel('Epoch')\n",
        "plt.ylabel('Loss')\n",
        "plt.title('Training and Validation Loss Over Epochs')\n",
        "plt.legend()\n",
        "plt.show()\n",
        "\n",
        "# Evaluate the Model\n",
        "model.eval()\n",
        "with torch.no_grad():\n",
        "    raw_outputs = model(X_test)\n",
        "    print(f'Raw outputs (first 10): {raw_outputs[:10].flatten()}')\n",
        "\n",
        "    # Adjust threshold if necessary\n",
        "    threshold = 0.3\n",
        "    y_predicted = (raw_outputs > threshold).float()\n",
        "    unique_values = y_predicted.unique()\n",
        "    print(f'Unique values in predictions with threshold {threshold}: {unique_values}')\n",
        "\n",
        "    y_test_flat = y_test.flatten()\n",
        "    if len(unique_values) == 1:\n",
        "        print(f'Only one class ({unique_values.item()}) predicted with threshold {threshold}.')\n",
        "    else:\n",
        "        print(classification_report(y_test_flat, y_predicted, target_names=['class 0', 'class 1']))"
      ],
      "cell_type": "code",
      "metadata": {
        "colab": {
          "base_uri": "https://localhost:8080/",
          "height": 951
        },
        "id": "4kRTJar6W8Qy",
        "outputId": "d179ec9a-d67e-465b-df58-f687b96e922f"
      },
      "execution_count": null,
      "outputs": [
        {
          "output_type": "stream",
          "name": "stdout",
          "text": [
            "Index(['timestamp', 'user_id', 'tool_id', 'competency', 'activity_id', 'date',\n",
            "       'time', 'lesson'],\n",
            "      dtype='object')\n",
            "Non-numeric columns: Index(['timestamp', 'date', 'time'], dtype='object')\n",
            "Epoch [10/100], Loss: 0.1551, Val Loss: 0.1917\n",
            "Epoch [20/100], Loss: 0.1077, Val Loss: 0.1335\n",
            "Epoch [30/100], Loss: 0.0980, Val Loss: 0.1304\n",
            "Epoch [40/100], Loss: 0.0923, Val Loss: 0.1283\n",
            "Epoch [50/100], Loss: 0.0886, Val Loss: 0.1215\n",
            "Epoch [60/100], Loss: 0.0838, Val Loss: 0.1198\n",
            "Epoch [70/100], Loss: 0.0792, Val Loss: 0.1166\n",
            "Epoch [80/100], Loss: 0.0765, Val Loss: 0.1158\n",
            "Epoch [90/100], Loss: 0.0756, Val Loss: 0.1152\n",
            "Epoch [100/100], Loss: 0.0751, Val Loss: 0.1140\n"
          ]
        },
        {
          "output_type": "display_data",
          "data": {
            "text/plain": [
              "<Figure size 640x480 with 1 Axes>"
            ],
            "image/png": "[encoded data removed]"
          },
          "metadata": {}
        },
        {
          "output_type": "stream",
          "name": "stdout",
          "text": [
            "Raw outputs (first 10): tensor([1.0964e-02, 4.9273e-04, 3.8146e-02, 6.6706e-07, 4.0128e-04, 8.6344e-04,\n",
            "        3.2611e-07, 4.9273e-04, 1.7616e-02, 2.7330e-07])\n",
            "Unique values in predictions with threshold 0.3: tensor([0., 1.])\n",
            "              precision    recall  f1-score   support\n",
            "\n",
            "     class 0       0.97      0.99      0.98      1089\n",
            "     class 1       0.30      0.14      0.19        42\n",
            "\n",
            "    accuracy                           0.96      1131\n",
            "   macro avg       0.63      0.57      0.59      1131\n",
            "weighted avg       0.94      0.96      0.95      1131\n",
            "\n"
          ]
        }
      ]
    },
    {
      "cell_type": "markdown",
      "source": [
        "Feature Engineering"
      ],
      "metadata": {
        "id": "cJlnW_BH5X8l"
      }
    },
    {
      "cell_type": "code",
      "source": [
        "df = pd.read_excel(\"/content/CAD_KLO_07082024.xlsx\")\n",
        "test_df = pd.read_excel(\"/content/CAD_KLO_07082024.xlsx\")\n",
        "\n",
        "df.info()"
      ],
      "metadata": {
        "colab": {
          "base_uri": "https://localhost:8080/"
        },
        "id": "WahvWkJD5QZ6",
        "outputId": "5ef7fa04-c4ae-40ec-fc21-2a9acc21ea6c"
      },
      "execution_count": null,
      "outputs": [
        {
          "output_type": "stream",
          "name": "stdout",
          "text": [
            "<class 'pandas.core.frame.DataFrame'>\n",
            "RangeIndex: 5655 entries, 0 to 5654\n",
            "Data columns (total 8 columns):\n",
            " #   Column       Non-Null Count  Dtype         \n",
            "---  ------       --------------  -----         \n",
            " 0   timestamp    5655 non-null   object        \n",
            " 1   user_id      5655 non-null   int64         \n",
            " 2   tool_id      5655 non-null   int64         \n",
            " 3   competency   5655 non-null   int64         \n",
            " 4   activity_id  5655 non-null   int64         \n",
            " 5   date         5655 non-null   datetime64[ns]\n",
            " 6   time         5655 non-null   object        \n",
            " 7   lesson       5655 non-null   int64         \n",
            "dtypes: datetime64[ns](1), int64(5), object(2)\n",
            "memory usage: 353.6+ KB\n"
          ]
        }
      ]
    },
    {
      "cell_type": "code",
      "source": [
        "def feature_engineering(df): #feature engineering function\n",
        "\n",
        "    return df"
      ],
      "metadata": {
        "id": "0zu2A_7l5RrG"
      },
      "execution_count": null,
      "outputs": []
    },
    {
      "cell_type": "code",
      "source": [
        "df = feature_engineering(df)"
      ],
      "metadata": {
        "id": "xbs8wRLW5nzw"
      },
      "execution_count": null,
      "outputs": []
    },
    {
      "cell_type": "code",
      "source": [
        "df = df.drop(['timestamp', 'date', 'time'], axis=1) # Remove columns I no longer need"
      ],
      "metadata": {
        "id": "RJ-yzOlh5ECJ"
      },
      "execution_count": null,
      "outputs": []
    },
    {
      "cell_type": "code",
      "source": [
        "df.isna().sum()  # Data Cleaning"
      ],
      "metadata": {
        "colab": {
          "base_uri": "https://localhost:8080/",
          "height": 240
        },
        "id": "-jo8qdGe6IEg",
        "outputId": "63c32417-7b03-44c1-e4e1-a523ba25e53a"
      },
      "execution_count": null,
      "outputs": [
        {
          "output_type": "execute_result",
          "data": {
            "text/plain": [
              "user_id        0\n",
              "tool_id        0\n",
              "competency     0\n",
              "activity_id    0\n",
              "lesson         0\n",
              "dtype: int64"
            ],
            "text/html": [
              "<div>\n",
              "<style scoped>\n",
              "    .dataframe tbody tr th:only-of-type {\n",
              "        vertical-align: middle;\n",
              "    }\n",
              "\n",
              "    .dataframe tbody tr th {\n",
              "        vertical-align: top;\n",
              "    }\n",
              "\n",
              "    .dataframe thead th {\n",
              "        text-align: right;\n",
              "    }\n",
              "</style>\n",
              "<table border=\"1\" class=\"dataframe\">\n",
              "  <thead>\n",
              "    <tr style=\"text-align: right;\">\n",
              "      <th></th>\n",
              "      <th>0</th>\n",
              "    </tr>\n",
              "  </thead>\n",
              "  <tbody>\n",
              "    <tr>\n",
              "      <th>user_id</th>\n",
              "      <td>0</td>\n",
              "    </tr>\n",
              "    <tr>\n",
              "      <th>tool_id</th>\n",
              "      <td>0</td>\n",
              "    </tr>\n",
              "    <tr>\n",
              "      <th>competency</th>\n",
              "      <td>0</td>\n",
              "    </tr>\n",
              "    <tr>\n",
              "      <th>activity_id</th>\n",
              "      <td>0</td>\n",
              "    </tr>\n",
              "    <tr>\n",
              "      <th>lesson</th>\n",
              "      <td>0</td>\n",
              "    </tr>\n",
              "  </tbody>\n",
              "</table>\n",
              "</div><br><label><b>dtype:</b> int64</label>"
            ]
          },
          "metadata": {},
          "execution_count": 60
        }
      ]
    },
    {
      "cell_type": "code",
      "source": [
        "def scale_min_max(df, col_name, xmin, xmax):  # Normalization\n",
        "    df[col_name] = (df[col_name] - xmin) / (xmax - xmin)\n",
        "    return df\n",
        "\n",
        "train_age_min = df['competency'].min()\n",
        "train_age_max = df['competency'].max()\n",
        "df = scale_min_max(df, 'competency', train_age_min, train_age_max)\n",
        "\n",
        "df['competency'].describe()"
      ],
      "metadata": {
        "colab": {
          "base_uri": "https://localhost:8080/",
          "height": 335
        },
        "id": "QI-WEl9a6Mcq",
        "outputId": "ff0fa306-90bb-4dbb-a7ce-7bcf7d7d3eee"
      },
      "execution_count": null,
      "outputs": [
        {
          "output_type": "execute_result",
          "data": {
            "text/plain": [
              "count    5655.000000\n",
              "mean        0.576746\n",
              "std         0.382928\n",
              "min         0.000000\n",
              "25%         0.250000\n",
              "50%         0.750000\n",
              "75%         1.000000\n",
              "max         1.000000\n",
              "Name: competency, dtype: float64"
            ],
            "text/html": [
              "<div>\n",
              "<style scoped>\n",
              "    .dataframe tbody tr th:only-of-type {\n",
              "        vertical-align: middle;\n",
              "    }\n",
              "\n",
              "    .dataframe tbody tr th {\n",
              "        vertical-align: top;\n",
              "    }\n",
              "\n",
              "    .dataframe thead th {\n",
              "        text-align: right;\n",
              "    }\n",
              "</style>\n",
              "<table border=\"1\" class=\"dataframe\">\n",
              "  <thead>\n",
              "    <tr style=\"text-align: right;\">\n",
              "      <th></th>\n",
              "      <th>competency</th>\n",
              "    </tr>\n",
              "  </thead>\n",
              "  <tbody>\n",
              "    <tr>\n",
              "      <th>count</th>\n",
              "      <td>5655.000000</td>\n",
              "    </tr>\n",
              "    <tr>\n",
              "      <th>mean</th>\n",
              "      <td>0.576746</td>\n",
              "    </tr>\n",
              "    <tr>\n",
              "      <th>std</th>\n",
              "      <td>0.382928</td>\n",
              "    </tr>\n",
              "    <tr>\n",
              "      <th>min</th>\n",
              "      <td>0.000000</td>\n",
              "    </tr>\n",
              "    <tr>\n",
              "      <th>25%</th>\n",
              "      <td>0.250000</td>\n",
              "    </tr>\n",
              "    <tr>\n",
              "      <th>50%</th>\n",
              "      <td>0.750000</td>\n",
              "    </tr>\n",
              "    <tr>\n",
              "      <th>75%</th>\n",
              "      <td>1.000000</td>\n",
              "    </tr>\n",
              "    <tr>\n",
              "      <th>max</th>\n",
              "      <td>1.000000</td>\n",
              "    </tr>\n",
              "  </tbody>\n",
              "</table>\n",
              "</div><br><label><b>dtype:</b> float64</label>"
            ]
          },
          "metadata": {},
          "execution_count": 61
        }
      ]
    },
    {
      "cell_type": "markdown",
      "source": [
        "Data correlation"
      ],
      "metadata": {
        "id": "l7z9Da-1tw5M"
      }
    },
    {
      "cell_type": "code",
      "source": [
        "def divide_df(all_data):\n",
        "    # Returns divided dfs of training and test set\n",
        "    return all_data.loc[:16], all_data.loc[16:].drop(['timestamp', 'date', 'time'], axis=1)\n",
        "\n",
        "df_train = pd.read_excel(\"/content/CAD_KLO_07082024.xlsx\")\n",
        "df_test = pd.read_excel(\"/content/CAD_KLO_07082024.xlsx\")\n",
        "\n",
        "\n",
        "df_train.name = 'Training Set'\n",
        "df_test.name = 'Test Set'\n",
        "\n",
        "\n",
        "dfs = [df_train, df_test]\n",
        "\n",
        "print('Number of Training Examples = {}'.format(df_train.shape[0]))\n",
        "print('Number of Test Examples = {}\\n'.format(df_test.shape[0]))\n",
        "print('Training X Shape = {}'.format(df_train.shape))\n",
        "print('Training y Shape = {}\\n'.format(df_train['user_id'].shape[0]))\n",
        "print('Test X Shape = {}'.format(df_test.shape))\n",
        "print('Test y Shape = {}\\n'.format(df_test.shape[0]))\n",
        "print(df_train.columns)\n",
        "print(df_test.columns)"
      ],
      "metadata": {
        "colab": {
          "base_uri": "https://localhost:8080/"
        },
        "id": "CX-OHDsXvA50",
        "outputId": "86a8feb2-b5c0-4e7b-c160-f1e62a81ef60"
      },
      "execution_count": null,
      "outputs": [
        {
          "output_type": "stream",
          "name": "stdout",
          "text": [
            "Number of Training Examples = 5655\n",
            "Number of Test Examples = 5655\n",
            "\n",
            "Training X Shape = (5655, 8)\n",
            "Training y Shape = 5655\n",
            "\n",
            "Test X Shape = (5655, 8)\n",
            "Test y Shape = 5655\n",
            "\n",
            "Index(['timestamp', 'user_id', 'tool_id', 'competency', 'activity_id', 'date',\n",
            "       'time', 'lesson'],\n",
            "      dtype='object')\n",
            "Index(['timestamp', 'user_id', 'tool_id', 'competency', 'activity_id', 'date',\n",
            "       'time', 'lesson'],\n",
            "      dtype='object')\n"
          ]
        }
      ]
    },
    {
      "cell_type": "code",
      "source": [
        "# Ensure 'timestamp' column is dropped from both training and test datasets\n",
        "df_train_cleaned = df_train.drop(['timestamp', 'date', 'time'], axis=1)\n",
        "df_test_cleaned = df_test.drop(['timestamp', 'date', 'time'], axis=1)"
      ],
      "metadata": {
        "id": "Sos7pHVduzvT"
      },
      "execution_count": null,
      "outputs": []
    },
    {
      "cell_type": "code",
      "source": [
        "# Verify all columns in df_train_cleaned and df_test_cleaned are numeric\n",
        "numeric_columns_train = df_train_cleaned.select_dtypes(include=[int, float]).columns\n",
        "numeric_columns_test = df_test_cleaned.select_dtypes(include=[int, float]).columns"
      ],
      "metadata": {
        "id": "DBlMF0I3u1ij"
      },
      "execution_count": null,
      "outputs": []
    },
    {
      "cell_type": "code",
      "source": [
        "# Compute correlations only on numeric columns\n",
        "df_train_corr = df_train_cleaned[numeric_columns_train].corr().abs().unstack().sort_values(kind=\"quicksort\", ascending=False).reset_index()\n",
        "df_train_corr.rename(columns={\"level_0\": \"Feature 1\", \"level_1\": \"Feature 2\", 0: 'Correlation Coefficient'}, inplace=True)\n",
        "df_train_corr.drop(df_train_corr.iloc[1::2].index, inplace=True)\n",
        "df_train_corr_nd = df_train_corr.drop(df_train_corr[df_train_corr['Correlation Coefficient'] == 1.0].index)\n"
      ],
      "metadata": {
        "id": "3MDNU20Ytwe8"
      },
      "execution_count": null,
      "outputs": []
    },
    {
      "cell_type": "code",
      "source": [
        "df_test_corr = df_test_cleaned[numeric_columns_test].corr().abs().unstack().sort_values(kind=\"quicksort\", ascending=False).reset_index()\n",
        "df_test_corr.rename(columns={\"level_0\": \"Feature 1\", \"level_1\": \"Feature 2\", 0: 'Correlation Coefficient'}, inplace=True)\n",
        "df_test_corr.drop(df_test_corr.iloc[1::2].index, inplace=True)\n",
        "df_test_corr_nd = df_test_corr.drop(df_test_corr[df_test_corr['Correlation Coefficient'] == 1.0].index)"
      ],
      "metadata": {
        "id": "u-zCvh71xN9n"
      },
      "execution_count": null,
      "outputs": []
    },
    {
      "cell_type": "code",
      "source": [
        "!pip install seaborn\n",
        "import seaborn as sns\n",
        "\n",
        "# Verify 'timestamp' column is actually dropped\n",
        "print(df_train.columns)\n",
        "print(df_test.columns)\n",
        "\n",
        "# Drop 'timestamp' again if still present, and reassign to new variables for clarity\n",
        "df_train_dropped = df_train.drop(['timestamp', 'date', 'time'], axis=1)\n",
        "df_test_dropped = df_test.drop(['timestamp', 'date', 'time'], axis=1)\n",
        "\n",
        "fig, axs = plt.subplots(nrows=2, figsize=(10, 10))\n",
        "\n",
        "# Use the new DataFrames with 'timestamp' dropped\n",
        "sns.heatmap(df_train_dropped.corr(), ax=axs[0], annot=True, square=True, cmap='coolwarm', annot_kws={'size': 10})\n",
        "sns.heatmap(df_test_dropped.corr(), ax=axs[1], annot=True, square=True, cmap='coolwarm', annot_kws={'size': 10})\n",
        "\n",
        "for i in range(2):\n",
        "    axs[i].tick_params(axis='x', labelsize=7)\n",
        "    axs[i].tick_params(axis='y', labelsize=7)\n",
        "\n",
        "axs[0].set_title('Training Set Correlations', size=10)\n",
        "axs[1].set_title('Test Set Correlations', size=10)\n",
        "\n",
        "plt.show()"
      ],
      "metadata": {
        "colab": {
          "base_uri": "https://localhost:8080/",
          "height": 1000
        },
        "id": "6NEE4OoFxWRo",
        "outputId": "92ce4700-5a49-40d0-aebb-0f468d42b154"
      },
      "execution_count": null,
      "outputs": [
        {
          "output_type": "stream",
          "name": "stdout",
          "text": [
            "Requirement already satisfied: seaborn in /usr/local/lib/python3.10/dist-packages (0.13.1)\n",
            "Requirement already satisfied: numpy!=1.24.0,>=1.20 in /usr/local/lib/python3.10/dist-packages (from seaborn) (1.26.4)\n",
            "Requirement already satisfied: pandas>=1.2 in /usr/local/lib/python3.10/dist-packages (from seaborn) (2.1.4)\n",
            "Requirement already satisfied: matplotlib!=3.6.1,>=3.4 in /usr/local/lib/python3.10/dist-packages (from seaborn) (3.7.1)\n",
            "Requirement already satisfied: contourpy>=1.0.1 in /usr/local/lib/python3.10/dist-packages (from matplotlib!=3.6.1,>=3.4->seaborn) (1.2.1)\n",
            "Requirement already satisfied: cycler>=0.10 in /usr/local/lib/python3.10/dist-packages (from matplotlib!=3.6.1,>=3.4->seaborn) (0.12.1)\n",
            "Requirement already satisfied: fonttools>=4.22.0 in /usr/local/lib/python3.10/dist-packages (from matplotlib!=3.6.1,>=3.4->seaborn) (4.53.1)\n",
            "Requirement already satisfied: kiwisolver>=1.0.1 in /usr/local/lib/python3.10/dist-packages (from matplotlib!=3.6.1,>=3.4->seaborn) (1.4.5)\n",
            "Requirement already satisfied: packaging>=20.0 in /usr/local/lib/python3.10/dist-packages (from matplotlib!=3.6.1,>=3.4->seaborn) (24.1)\n",
            "Requirement already satisfied: pillow>=6.2.0 in /usr/local/lib/python3.10/dist-packages (from matplotlib!=3.6.1,>=3.4->seaborn) (9.4.0)\n",
            "Requirement already satisfied: pyparsing>=2.3.1 in /usr/local/lib/python3.10/dist-packages (from matplotlib!=3.6.1,>=3.4->seaborn) (3.1.2)\n",
            "Requirement already satisfied: python-dateutil>=2.7 in /usr/local/lib/python3.10/dist-packages (from matplotlib!=3.6.1,>=3.4->seaborn) (2.8.2)\n",
            "Requirement already satisfied: pytz>=2020.1 in /usr/local/lib/python3.10/dist-packages (from pandas>=1.2->seaborn) (2024.1)\n",
            "Requirement already satisfied: tzdata>=2022.1 in /usr/local/lib/python3.10/dist-packages (from pandas>=1.2->seaborn) (2024.1)\n",
            "Requirement already satisfied: six>=1.5 in /usr/local/lib/python3.10/dist-packages (from python-dateutil>=2.7->matplotlib!=3.6.1,>=3.4->seaborn) (1.16.0)\n",
            "Index(['timestamp', 'user_id', 'tool_id', 'competency', 'activity_id', 'date',\n",
            "       'time', 'lesson'],\n",
            "      dtype='object')\n",
            "Index(['timestamp', 'user_id', 'tool_id', 'competency', 'activity_id', 'date',\n",
            "       'time', 'lesson'],\n",
            "      dtype='object')\n"
          ]
        },
        {
          "output_type": "display_data",
          "data": {
            "text/plain": [
              "<Figure size 1000x1000 with 4 Axes>"
            ],
            "image/png": "[encoded data removed]"
          },
          "metadata": {}
        }
      ]
    },
    {
      "cell_type": "markdown",
      "source": [
        "Very high correlation is activity_id and competency 0.94,\n",
        "\n",
        "competency and tool_id 0.63\n",
        "\n",
        "and activity_id and tool_id 0.55."
      ],
      "metadata": {
        "id": "x2v1bsRSyOQ1"
      }
    }
  ]
}