{
  "nbformat": 4,
  "nbformat_minor": 0,
  "metadata": {
    "colab": {
      "provenance": [],
      "authorship_tag": "ABX9TyM+mLZqu7BC1TH55gZWsX59",
      "include_colab_link": true
    },
    "kernelspec": {
      "name": "python3",
      "display_name": "Python 3"
    },
    "language_info": {
      "name": "python"
    }
  },
  "cells": [
    {
      "cell_type": "markdown",
      "metadata": {
        "id": "view-in-github",
        "colab_type": "text"
      },
      "source": [
        "<a href=\"https://colab.research.google.com/github/eeolga/article/blob/main/Logs_cleaning_26012025.ipynb\" target=\"_parent\"><img src=\"https://colab.research.google.com/assets/colab-badge.svg\" alt=\"Open In Colab\"/></a>"
      ]
    },
    {
      "cell_type": "code",
      "execution_count": null,
      "metadata": {
        "colab": {
          "base_uri": "https://localhost:8080/"
        },
        "id": "fj6oExR934bH",
        "outputId": "6a9fc307-c301-4b7c-cdc8-a5e8c17a6b97"
      },
      "outputs": [
        {
          "output_type": "stream",
          "name": "stdout",
          "text": [
            "Cleaned Excel file saved to: cleaned_file.xlsx\n"
          ]
        }
      ],
      "source": [
        "import pandas as pd\n",
        "\n",
        "def clean_excel(file_path, output_path, drop_rows_containing=None, keep_columns=None):\n",
        "    \"\"\"\n",
        "    Cleans an Excel file by removing rows containing specific data and keeping only specified columns.\n",
        "\n",
        "    Parameters:\n",
        "    - file_path (str): Path to the input Excel file.\n",
        "    - output_path (str): Path to save the cleaned Excel file.\n",
        "    - drop_rows_containing (list, optional): List of values; rows containing these values in any column will be removed.\n",
        "    - keep_columns (list, optional): List of column names to keep; all others will be removed.\n",
        "\n",
        "    Returns:\n",
        "    - None: Saves the cleaned Excel file to the specified output path.\n",
        "    \"\"\"\n",
        "    try:\n",
        "        # Load the Excel file\n",
        "        df = pd.read_excel(file_path)\n",
        "\n",
        "        # Drop rows containing specific values\n",
        "        if drop_rows_containing:\n",
        "            for value in drop_rows_containing:\n",
        "                df = df[~df.apply(lambda row: row.astype(str).str.contains(value, case=False).any(), axis=1)]\n",
        "\n",
        "        # Keep only specified columns\n",
        "        if keep_columns:\n",
        "            df = df[keep_columns]\n",
        "\n",
        "        # Save the cleaned DataFrame to a new Excel file\n",
        "        df.to_excel(output_path, index=False)\n",
        "        print(f\"Cleaned Excel file saved to: {output_path}\")\n",
        "\n",
        "    except Exception as e:\n",
        "        print(f\"An error occurred: {e}\")\n",
        "\n",
        "# Example usage\n",
        "if __name__ == \"__main__\":\n",
        "    # File paths\n",
        "    input_file = \"input.xlsx\"\n",
        "    output_file = \"cleaned_file.xlsx\"\n",
        "\n",
        "    # Define the rows and columns to filter\n",
        "    rows_to_remove = [\"TEACHER\", \"VISITOR\", \"EVALUATOR\"]  # Replace with your data names\n",
        "    columns_to_keep = [\"Time\", \"User_full_name\", \"Event_context\", \"Description\" ]  # Replace with your column names\n",
        "\n",
        "    # Clean the Excel file\n",
        "    clean_excel(input_file, output_file, drop_rows_containing=rows_to_remove, keep_columns=columns_to_keep)"
      ]
    }
  ]
}