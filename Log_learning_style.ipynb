{
  "nbformat": 4,
  "nbformat_minor": 0,
  "metadata": {
    "colab": {
      "provenance": [],
      "authorship_tag": "ABX9TyNqpoQWMe/cBse9bhKWr4Hj",
      "include_colab_link": true
    },
    "kernelspec": {
      "name": "python3",
      "display_name": "Python 3"
    },
    "language_info": {
      "name": "python"
    }
  },
  "cells": [
    {
      "cell_type": "markdown",
      "metadata": {
        "id": "view-in-github",
        "colab_type": "text"
      },
      "source": [
        "<a href=\"https://colab.research.google.com/github/eeolga/article/blob/main/Log_learning_style.ipynb\" target=\"_parent\"><img src=\"https://colab.research.google.com/assets/colab-badge.svg\" alt=\"Open In Colab\"/></a>"
      ]
    },
    {
      "cell_type": "markdown",
      "source": [
        "Rows removing"
      ],
      "metadata": {
        "id": "iX3cG9JxUC5L"
      }
    },
    {
      "cell_type": "code",
      "source": [
        "import pandas as pd\n",
        "\n",
        "# Load the original Excel file\n",
        "file_path = \"logs_20250605.xlsx\"  # Update this path if needed\n",
        "df = pd.read_excel(file_path)\n",
        "\n",
        "# Convert 'Timestamp' column to datetime\n",
        "df['Timestamp'] = pd.to_datetime(df['Timestamp'], dayfirst=True)\n",
        "\n",
        "# Step 1: Remove rows with specific names\n",
        "names_to_delete = [\"Teacher1\", \"Teacher2\"]\n",
        "df = df[~df['Name'].isin(names_to_delete)]\n",
        "\n",
        "# Step 2: Remove rows with timestamps on or before the cutoff\n",
        "cutoff_timestamp = pd.to_datetime(\"28/01/25 10:44:11\", dayfirst=True)\n",
        "df = df[df['Timestamp'] > cutoff_timestamp]\n",
        "\n",
        "# Save the final cleaned data\n",
        "final_file_path = \"final_logs_combined.xlsx\"\n",
        "df.to_excel(final_file_path, index=False)\n",
        "\n",
        "\n"
      ],
      "metadata": {
        "colab": {
          "base_uri": "https://localhost:8080/"
        },
        "id": "hawZJzclHOJ_",
        "outputId": "5c5e8684-402b-43b5-8f26-05ff1c018456"
      },
      "execution_count": null,
      "outputs": [
        {
          "output_type": "stream",
          "name": "stderr",
          "text": [
            "<ipython-input-9-4148ec91c296>:8: UserWarning: Could not infer format, so each element will be parsed individually, falling back to `dateutil`. To ensure parsing is consistent and as-expected, please specify a format.\n",
            "  df['Timestamp'] = pd.to_datetime(df['Timestamp'], dayfirst=True)\n"
          ]
        }
      ]
    },
    {
      "cell_type": "markdown",
      "source": [
        "Rows deleting, columns data replacing and extracolumns deleting"
      ],
      "metadata": {
        "id": "F6tNkLUEUJgm"
      }
    },
    {
      "cell_type": "code",
      "source": [
        "import pandas as pd\n",
        "\n",
        "# Load the newly uploaded Excel file\n",
        "file_path = \"/content/logs_AutoCADc_20250605-1056.xlsx\"\n",
        "df = pd.read_excel(file_path)\n",
        "\n",
        "# Convert 'Timestamp' column to datetime\n",
        "df['Time'] = pd.to_datetime(df['Time'], dayfirst=True)\n",
        "\n",
        "# Step 1: Delete rows with specified names\n",
        "names_to_delete = [\"Olga Ovtsarenko\", \"John Rodriquez\"]\n",
        "df = df[~df['User full name'].isin(names_to_delete)]\n",
        "\n",
        "# Step 2: Delete rows on or before the cutoff timestamp\n",
        "cutoff_time = pd.to_datetime(\"28/01/25 10:44:11\", dayfirst=True)\n",
        "df = df[df['Time'] > cutoff_time]\n",
        "\n",
        "# Step 3: Replace 'User full name' with user ID from 'Description'\n",
        "df['User full name'] = df['Description'].str.extract(r\"user with id\\s+'(\\d+)'\")\n",
        "\n",
        "# Replace 'Event context' with course module ID from Description\n",
        "module_id = df['Description'].str.extract(r\"course module id\\s+'(\\d+)'\")\n",
        "\n",
        "# Replace 'Event context' with H5P ID from Description (if available)\n",
        "h5p_id = df['Description'].str.extract(r\"H5P with the id\\s+'(\\d+)'\")\n",
        "\n",
        "# Combine both extracted values into one column: prefer module ID, else H5P ID\n",
        "df['Event context'] = module_id.combine_first(h5p_id)\n",
        "\n",
        "\n",
        "# Drop the specified columns\n",
        "columns_to_delete = ['Affected user', 'Origin', 'IP address']\n",
        "df.drop(columns=columns_to_delete, inplace=True, errors='ignore')\n",
        "\n",
        "# Save the final cleaned and updated file\n",
        "final_combined_file_path = \"/content/logs_20250605_cleaned_.xlsx\"\n",
        "df.to_excel(final_combined_file_path, index=False)\n",
        "\n",
        "final_combined_file_path\n"
      ],
      "metadata": {
        "colab": {
          "base_uri": "https://localhost:8080/",
          "height": 92
        },
        "id": "R1eZ_tCqUBlR",
        "outputId": "a396f685-776e-4004-d251-068479dfad1b"
      },
      "execution_count": null,
      "outputs": [
        {
          "output_type": "stream",
          "name": "stderr",
          "text": [
            "<ipython-input-17-4712d50957a9>:8: UserWarning: Could not infer format, so each element will be parsed individually, falling back to `dateutil`. To ensure parsing is consistent and as-expected, please specify a format.\n",
            "  df['Time'] = pd.to_datetime(df['Time'], dayfirst=True)\n"
          ]
        },
        {
          "output_type": "execute_result",
          "data": {
            "text/plain": [
              "'/content/logs_20250605_cleaned_.xlsx'"
            ],
            "application/vnd.google.colaboratory.intrinsic+json": {
              "type": "string"
            }
          },
          "metadata": {},
          "execution_count": 17
        }
      ]
    },
    {
      "cell_type": "markdown",
      "source": [
        "User name replacing with user registration code"
      ],
      "metadata": {
        "id": "y6qFCMFYRHak"
      }
    },
    {
      "cell_type": "code",
      "source": [
        "import pandas as pd\n",
        "\n",
        "# Load the Excel file\n",
        "file_path = \"/content/logs_20250607.xlsx\"  # Replace with your actual file path\n",
        "df = pd.read_excel(file_path)\n",
        "\n",
        "# Replace 'User full name' with user ID from Description\n",
        "df['User full name'] = df['Description'].str.extract(r\"user with id\\s+'(\\d+)'\")\n",
        "\n",
        "# Replace 'Event context' with course module ID from Description\n",
        "module_id = df['Description'].str.extract(r\"course module id\\s+'(\\d+)'\")\n",
        "\n",
        "# Replace 'Event context' with H5P ID from Description (if available)\n",
        "h5p_id = df['Description'].str.extract(r\"H5P with the id\\s+'(\\d+)'\")\n",
        "\n",
        "# Combine both extracted values into one column: prefer module ID, else H5P ID\n",
        "df['Event context'] = module_id.combine_first(h5p_id)\n",
        "\n",
        "# Save the updated file\n",
        "df.to_excel(\"updated_file.xlsx\", index=False)\n"
      ],
      "metadata": {
        "id": "q4ESmhHVfzJ9"
      },
      "execution_count": null,
      "outputs": []
    }
  ]
}