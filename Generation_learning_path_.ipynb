{
  "nbformat": 4,
  "nbformat_minor": 0,
  "metadata": {
    "colab": {
      "provenance": [],
      "authorship_tag": "ABX9TyMPVzGyx3YSv/8Seu5wjoms",
      "include_colab_link": true
    },
    "kernelspec": {
      "name": "python3",
      "display_name": "Python 3"
    },
    "language_info": {
      "name": "python"
    }
  },
  "cells": [
    {
      "cell_type": "markdown",
      "metadata": {
        "id": "view-in-github",
        "colab_type": "text"
      },
      "source": [
        "<a href=\"https://colab.research.google.com/github/eeolga/article/blob/main/Generation_learning_path_.ipynb\" target=\"_parent\"><img src=\"https://colab.research.google.com/assets/colab-badge.svg\" alt=\"Open In Colab\"/></a>"
      ]
    },
    {
      "cell_type": "code",
      "execution_count": 6,
      "metadata": {
        "colab": {
          "base_uri": "https://localhost:8080/"
        },
        "id": "3SGb8qn4DsB7",
        "outputId": "5a72ea38-8f58-4970-ef23-75a86a1b38d3"
      },
      "outputs": [
        {
          "output_type": "stream",
          "name": "stdout",
          "text": [
            "Learning Path Recommendation for Student ID: 23320\n",
            "      toolid  tool_weight  performance\n",
            "1537  233140       0.0062     0.053265\n",
            "2977  233140       0.0062     0.053265\n",
            "2979  233140       0.0062     0.053265\n",
            "3008  233140       0.0062     0.053265\n",
            "4792  233140       0.0062     0.053265\n",
            "...      ...          ...          ...\n",
            "7369  233168       0.1852     0.009379\n",
            "7371  233168       0.1852     0.009379\n",
            "7377  233165       0.1852     0.009379\n",
            "7379  233165       0.1852     0.009379\n",
            "7380  233165       0.1852     0.009379\n",
            "\n",
            "[157 rows x 3 columns]\n",
            "\n",
            "\n",
            "Learning Path Recommendation for Student ID: 26342\n",
            "      toolid  tool_weight  performance\n",
            "121   233140       0.0062     0.126503\n",
            "530   233140       0.0062     0.126503\n",
            "541   233140       0.0062     0.126503\n",
            "1485  233140       0.0062     0.126503\n",
            "1505  233140       0.0062     0.126503\n",
            "...      ...          ...          ...\n",
            "6739  233162       0.0990     0.015200\n",
            "6747  233162       0.0990     0.015200\n",
            "6763  233168       0.1852     0.022275\n",
            "6766  233168       0.1852     0.022275\n",
            "6768  233165       0.1852     0.022275\n",
            "\n",
            "[66 rows x 3 columns]\n",
            "\n",
            "\n"
          ]
        }
      ],
      "source": [
        "import pandas as pd\n",
        "\n",
        "# Load the Excel data\n",
        "file_path = \"/content/updated_merged_data_19102024.xlsx\"\n",
        "df = pd.read_excel(file_path)\n",
        "\n",
        "# Define a function to recommend a learning path based on student progress\n",
        "def recommend_learning_path(data, student_id):\n",
        "    # Filter data for the specific student\n",
        "    student_data = data[data['userid'] == student_id]\n",
        "\n",
        "    # Create 'recommended_topics' based on student_data\n",
        "    # Assuming you have columns like 'toolid', 'tool_weight', 'performance' in your data\n",
        "    # and want to recommend topics where performance is below a certain threshold\n",
        "    # Replace 'your_condition' with the actual logic to identify recommended topics\n",
        "    recommended_topics = student_data[student_data['performance'] < 0.7]  # Example condition: performance less than 0.7\n",
        "\n",
        "    # Recommend learning path based on topics that need improvement\n",
        "    learning_path = recommended_topics[['toolid', 'tool_weight', 'performance']]\n",
        "\n",
        "    # Sort by completion status and score to prioritize weaker areas\n",
        "    learning_path = learning_path.sort_values(\n",
        "        by=['tool_weight', 'performance'],\n",
        "        ascending=[True, True]\n",
        "    )\n",
        "\n",
        "    return learning_path\n",
        "\n",
        "# Apply the recommendation function for two specific students (ID 1 and ID 2)\n",
        "student_ids = [23320, 26342]\n",
        "for student_id in student_ids:\n",
        "    print(f\"Learning Path Recommendation for Student ID: {student_id}\")\n",
        "    learning_path = recommend_learning_path(df, student_id)\n",
        "    print(learning_path)\n",
        "    print(\"\\n\")"
      ]
    },
    {
      "cell_type": "code",
      "source": [
        "# Create a new Excel file to save the recommendations\n",
        "output_file = \"learning_path_recommendations.xlsx\"\n",
        "with pd.ExcelWriter(output_file) as writer:\n",
        "    for student_id in student_ids:\n",
        "        # Generate learning path for the student\n",
        "        learning_path = recommend_learning_path(df, student_id)\n",
        "\n",
        "        # Write the learning path to a new sheet in the Excel file\n",
        "        sheet_name = f\"Student_{student_id}\"\n",
        "        learning_path.to_excel(writer, sheet_name=sheet_name, index=False)\n",
        "\n",
        "print(f\"Learning path recommendations have been saved to '{output_file}'.\")"
      ],
      "metadata": {
        "colab": {
          "base_uri": "https://localhost:8080/"
        },
        "id": "oATJh-YS59X_",
        "outputId": "6c24f1fd-9aac-48eb-9a0b-8ac0e65620b0"
      },
      "execution_count": 4,
      "outputs": [
        {
          "output_type": "stream",
          "name": "stdout",
          "text": [
            "Learning path recommendations have been saved to 'learning_path_recommendations.xlsx'.\n"
          ]
        }
      ]
    }
  ]
}