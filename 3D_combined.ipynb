{
  "nbformat": 4,
  "nbformat_minor": 0,
  "metadata": {
    "colab": {
      "provenance": [],
      "authorship_tag": "ABX9TyMjHdXlTGVyrQYLOZBTuRCq",
      "include_colab_link": true
    },
    "kernelspec": {
      "name": "python3",
      "display_name": "Python 3"
    },
    "language_info": {
      "name": "python"
    }
  },
  "cells": [
    {
      "cell_type": "markdown",
      "metadata": {
        "id": "view-in-github",
        "colab_type": "text"
      },
      "source": [
        "<a href=\"https://colab.research.google.com/github/eeolga/article/blob/main/3D_combined.ipynb\" target=\"_parent\"><img src=\"https://colab.research.google.com/assets/colab-badge.svg\" alt=\"Open In Colab\"/></a>"
      ]
    },
    {
      "cell_type": "code",
      "execution_count": 2,
      "metadata": {
        "colab": {
          "base_uri": "https://localhost:8080/"
        },
        "id": "DCmNV17QG3js",
        "outputId": "69af00aa-d1fc-4119-ba0b-500da789bb3f"
      },
      "outputs": [
        {
          "output_type": "stream",
          "name": "stdout",
          "text": [
            "Combined data has been saved to combined_data.xlsx\n"
          ]
        }
      ],
      "source": [
        "import pandas as pd\n",
        "\n",
        "# Load the first Excel file\n",
        "file1 = '/logs_AutoCADc_12102024-KTJ.xlsx'\n",
        "df1 = pd.read_excel(file1)\n",
        "\n",
        "# Load the second Excel file\n",
        "file2 = '/logs_AutoCAD_12102024_KLO.xlsx'\n",
        "df2 = pd.read_excel(file2)\n",
        "\n",
        "# Assuming both files have the same structure with the necessary columns\n",
        "# Columns to keep: timestamp, userid, toolid, activityid\n",
        "columns_to_keep = ['Timestamp', 'Userid', 'Toolid', 'Activityid']\n",
        "\n",
        "# Select only the relevant columns from both files\n",
        "df1_filtered = df1[columns_to_keep]\n",
        "df2_filtered = df2[columns_to_keep]\n",
        "\n",
        "# Combine the data from both files\n",
        "combined_df = pd.concat([df1_filtered, df2_filtered], ignore_index=True)\n",
        "\n",
        "# Optionally sort the combined data by timestamp (if needed)\n",
        "combined_df = combined_df.sort_values(by='Timestamp')\n",
        "\n",
        "# Save the combined data to a new Excel file\n",
        "output_file = 'combined_data.xlsx'\n",
        "combined_df.to_excel(output_file, index=False)\n",
        "\n",
        "print(f'Combined data has been saved to {output_file}')"
      ]
    }
  ]
}