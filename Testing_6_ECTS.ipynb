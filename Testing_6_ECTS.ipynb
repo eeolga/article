{
  "nbformat": 4,
  "nbformat_minor": 0,
  "metadata": {
    "colab": {
      "provenance": [],
      "authorship_tag": "ABX9TyMJTI18b/Ug3mtgxlelXmOo",
      "include_colab_link": true
    },
    "kernelspec": {
      "name": "python3",
      "display_name": "Python 3"
    },
    "language_info": {
      "name": "python"
    }
  },
  "cells": [
    {
      "cell_type": "markdown",
      "metadata": {
        "id": "view-in-github",
        "colab_type": "text"
      },
      "source": [
        "<a href=\"https://colab.research.google.com/github/eeolga/article/blob/main/Testing_6_ECTS.ipynb\" target=\"_parent\"><img src=\"https://colab.research.google.com/assets/colab-badge.svg\" alt=\"Open In Colab\"/></a>"
      ]
    },
    {
      "cell_type": "code",
      "execution_count": 4,
      "metadata": {
        "colab": {
          "base_uri": "https://localhost:8080/"
        },
        "id": "1iSP9KTwN5rM",
        "outputId": "48af00be-a37a-46ac-8ab4-0450821a53ae"
      },
      "outputs": [
        {
          "output_type": "stream",
          "name": "stdout",
          "text": [
            "Refined CA calculation complete. Results saved to 'refined_results_0.1.xlsx'.\n"
          ]
        }
      ],
      "source": [
        "import pandas as pd\n",
        "import numpy as np\n",
        "\n",
        "# Load data (replace 'your_excel_file.xlsx' with your actual file path)\n",
        "data = pd.read_excel('/content/rke123.xlsx')\n",
        "\n",
        "# Define weights and parameters for the formulas\n",
        "alpha = 0.3\n",
        "beta = 0.2\n",
        "gamma = 0.5\n",
        "lambda_ = 0.7  # Importance of Cn in CA calculation\n",
        "delta = 1.0  # Scaling factor for DA\n",
        "\n",
        "# Calculate components\n",
        "# WiD: Bloom level weight (normalized)\n",
        "data['WiD'] = data['Bloom_level_weight']  # Assuming already normalized\n",
        "\n",
        "# WnT: Tool weight (normalized)\n",
        "data['WnT'] = data['Tool_weight']  # Assuming already normalized\n",
        "\n",
        "# WnECTS: Adjusted Tool ECTS weight\n",
        "data['WnECTS'] = (3 * (data['k38'] + data['k28'] + data['k34']) / 100) * (\n",
        "data['k38'] + data['k28'] + data['k34']\n",
        ")\n",
        "\n",
        "# Cn: Tool Competence Indication with weighted components\n",
        "data['Cn'] = alpha * data['WiD'] + beta * data['WnT'] + gamma * data['WnECTS']\n",
        "\n",
        "# fA: Dynamic component factor (normalized A)\n",
        "data['fA'] = data['Tool_competence_indication'] / data['Tool_competence_indication'].max()\n",
        "\n",
        "# DA: Dynamic Component Assessment\n",
        "data['DA'] = delta * data['Competency_Indicator_0.1'] * data['fA']\n",
        "\n",
        "# CA: Competency Indicator (combined formula)\n",
        "data['CA'] = lambda_ * data['Cn'] + (1 - lambda_) * data['DA']\n",
        "\n",
        "# Scale CA to match Expected_CA\n",
        "data['CA_Scaled'] = (data['CA'] / data['CA'].max()) * data['Expected_CA']\n",
        "\n",
        "# Error: Difference between calculated and expected values\n",
        "data['Error'] = data['CA_Scaled'] - data['Expected_CA']\n",
        "\n",
        "# Save results to a new Excel file\n",
        "data.to_excel('refined_results_0.1.xlsx', index=False)\n",
        "\n",
        "print(\"Refined CA calculation complete. Results saved to 'refined_results_0.1.xlsx'.\")"
      ]
    },
    {
      "cell_type": "code",
      "source": [
        "import pandas as pd\n",
        "import numpy as np\n",
        "\n",
        "# Load data (replace 'your_excel_file.xlsx' with your actual file path)\n",
        "data = pd.read_excel('/content/rke123.xlsx')\n",
        "\n",
        "# Define weights and parameters for the formulas\n",
        "alpha = 0.3\n",
        "beta = 0.2\n",
        "gamma = 0.5\n",
        "lambda_ = 0.7  # Importance of Cn in CA calculation\n",
        "delta = 1.0  # Scaling factor for DA\n",
        "\n",
        "# Calculate components\n",
        "# WiD: Bloom level weight (normalized)\n",
        "data['WiD'] = data['Bloom_level_weight']  # Assuming already normalized\n",
        "\n",
        "# WnT: Tool weight (normalized)\n",
        "data['WnT'] = data['Tool_weight']  # Assuming already normalized\n",
        "\n",
        "# WnECTS: Adjusted Tool ECTS weight\n",
        "data['WnECTS'] = (3 * (data['k38'] + data['k28'] + data['k34']) / 100) * (\n",
        "data['k38'] + data['k28'] + data['k34']\n",
        ")\n",
        "\n",
        "# Cn: Tool Competence Indication with weighted components\n",
        "data['Cn'] = alpha * data['WiD'] + beta * data['WnT'] + gamma * data['WnECTS']\n",
        "\n",
        "# fA: Dynamic component factor (normalized A)\n",
        "data['fA'] = data['Tool_competence_indication'] / data['Tool_competence_indication'].max()\n",
        "\n",
        "# DA: Dynamic Component Assessment\n",
        "data['DA'] = delta * data['Competency_Indicator_0.1'] * data['fA']\n",
        "\n",
        "# CA: Competency Indicator (combined formula)\n",
        "data['CA'] = lambda_ * data['Cn'] + (1 - lambda_) * data['DA']\n",
        "\n",
        "# Scale CA to match Expected_CA\n",
        "data['CA_Scaled'] = (data['CA'] / data['CA'].max()) * data['Expected_CA']\n",
        "\n",
        "# Error: Difference between calculated and expected values\n",
        "data['Error'] = data['CA_Scaled'] - data['Expected_CA']\n",
        "\n",
        "# Save results to a new Excel file\n",
        "data.to_excel('refined_results_0.5.xlsx', index=False)\n",
        "\n",
        "print(\"Refined CA calculation complete. Results saved to 'refined_results_0.5.xlsx'.\")"
      ],
      "metadata": {
        "colab": {
          "base_uri": "https://localhost:8080/"
        },
        "id": "tz4my1Y5Q6lF",
        "outputId": "f829ef69-3f90-4f8a-8bde-3caa12527f45"
      },
      "execution_count": 5,
      "outputs": [
        {
          "output_type": "stream",
          "name": "stdout",
          "text": [
            "Refined CA calculation complete. Results saved to 'refined_results_0.5.xlsx'.\n"
          ]
        }
      ]
    }
  ]
}