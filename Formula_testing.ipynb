{
  "nbformat": 4,
  "nbformat_minor": 0,
  "metadata": {
    "colab": {
      "provenance": [],
      "authorship_tag": "ABX9TyOe9OftYIrN27oRBb684aEn",
      "include_colab_link": true
    },
    "kernelspec": {
      "name": "python3",
      "display_name": "Python 3"
    },
    "language_info": {
      "name": "python"
    }
  },
  "cells": [
    {
      "cell_type": "markdown",
      "metadata": {
        "id": "view-in-github",
        "colab_type": "text"
      },
      "source": [
        "<a href=\"https://colab.research.google.com/github/eeolga/article/blob/main/Formula_testing.ipynb\" target=\"_parent\"><img src=\"https://colab.research.google.com/assets/colab-badge.svg\" alt=\"Open In Colab\"/></a>"
      ]
    },
    {
      "cell_type": "code",
      "source": [
        "import pandas as pd\n",
        "import numpy as np\n",
        "\n",
        "# Load Excel data\n",
        "def load_excel_data(file_path):\n",
        "    \"\"\"\n",
        "    Load Excel data into a Pandas DataFrame.\n",
        "    \"\"\"\n",
        "    return pd.read_excel(file_path)\n",
        "\n",
        "# Compute Cn = WiD + WnT + WnECTS\n",
        "def compute_Cn(bloom_weights, tool_weights, tool_ects):\n",
        "    \"\"\"\n",
        "    Compute Cn based on the given formula.\n",
        "    \"\"\"\n",
        "    Cn = bloom_weights + tool_weights + tool_ects\n",
        "    return Cn\n",
        "\n",
        "# Compute WiD = i / sum(i)\n",
        "def compute_WiD(i_values):\n",
        "    \"\"\"\n",
        "    Compute WiD for i-th Bloom level weights.\n",
        "    \"\"\"\n",
        "    total = sum(i_values)\n",
        "    return np.array(i_values) / total\n",
        "\n",
        "# Compute WnT = (1 / sum(T)) * n\n",
        "def compute_WnT(n_values):\n",
        "    \"\"\"\n",
        "    Compute WnT for n-th tool weights.\n",
        "    \"\"\"\n",
        "    total = sum(n_values)\n",
        "    return np.array(n_values) / total\n",
        "\n",
        "# Compute WnECTS = (3 * factor / 100) * (sum(factors))\n",
        "def compute_WnECTS(factors):\n",
        "    \"\"\"\n",
        "    Compute WnECTS for n-th tool ECTS weights.\n",
        "    \"\"\"\n",
        "    total_factor = sum(factors)\n",
        "    return (3 * np.array(factors) / 100) * total_factor\n",
        "\n",
        "# Compute DA = WA * fA, where fA = A * A\n",
        "def compute_DA(WA, A):\n",
        "    \"\"\"\n",
        "    Compute Dynamic Assessment component DA.\n",
        "    \"\"\"\n",
        "    fA = np.array(A) * np.array(A)\n",
        "    return WA * fA\n",
        "\n",
        "# Main function to compute Competency Indicator (CA)\n",
        "def compute_CA(data):\n",
        "    \"\"\"\n",
        "    Compute Competency Indicator (CA) using the provided formula.\n",
        "\n",
        "    Parameters:\n",
        "        data: Pandas DataFrame with required input columns.\n",
        "\n",
        "    Returns:\n",
        "        DataFrame with CA values computed.\n",
        "    \"\"\"\n",
        "    # Compute Bloom level weights WiD\n",
        "    data['WiD'] = compute_WiD(data['Bloom_level'].tolist())\n",
        "\n",
        "    # Compute Tool weights WnT\n",
        "    data['WnT'] = compute_WnT(data['Tool_competence_indication'].tolist())\n",
        "\n",
        "    # Compute Tool ECTS WnECTS\n",
        "    data['WnECTS'] = compute_WnECTS(data['Tool_ECTS'].tolist())\n",
        "\n",
        "    # Compute Cn = WiD + WnT + WnECTS\n",
        "    data['Cn'] = compute_Cn(data['WiD'], data['WnT'], data['WnECTS'])\n",
        "\n",
        "    # Compute DA = WA * fA, where fA = A * A\n",
        "    data['DA'] = compute_DA(data['Competency_Indicator_0.1'], data['Competency_Indicator_0.5'])\n",
        "\n",
        "    # Compute CA = Cn + DA\n",
        "    data['CA'] = data['Cn'] + data['DA']\n",
        "\n",
        "    return data\n",
        "\n",
        "# Example usage\n",
        "if __name__ == \"__main__\":\n",
        "    # Load data from an Excel file\n",
        "    file_path = \"/content/output 7-12-2023.xlsx\"  # Replace with the actual file path\n",
        "    data = load_excel_data(file_path)\n",
        "\n",
        "    # Compute CA values\n",
        "    result = compute_CA(data)\n",
        "\n",
        "    # Save results back to an Excel file\n",
        "    result.to_excel(\"computed_results.xlsx\", index=False)\n",
        "    print(\"Results saved to 'computed_results.xlsx'\")\n"
      ],
      "metadata": {
        "colab": {
          "base_uri": "https://localhost:8080/"
        },
        "id": "tKWonA2x7bbL",
        "outputId": "1fce82cf-7af9-493e-b473-749c2d82b390"
      },
      "execution_count": 8,
      "outputs": [
        {
          "output_type": "stream",
          "name": "stdout",
          "text": [
            "Results saved to 'computed_results.xlsx'\n"
          ]
        }
      ]
    }
  ]
}