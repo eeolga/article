{
  "nbformat": 4,
  "nbformat_minor": 0,
  "metadata": {
    "colab": {
      "provenance": [],
      "authorship_tag": "ABX9TyM4kjCsWSjxGFVPFkRJ9lrc",
      "include_colab_link": true
    },
    "kernelspec": {
      "name": "python3",
      "display_name": "Python 3"
    },
    "language_info": {
      "name": "python"
    }
  },
  "cells": [
    {
      "cell_type": "markdown",
      "metadata": {
        "id": "view-in-github",
        "colab_type": "text"
      },
      "source": [
        "<a href=\"https://colab.research.google.com/github/eeolga/article/blob/main/Analyze_statistics.ipynb\" target=\"_parent\"><img src=\"https://colab.research.google.com/assets/colab-badge.svg\" alt=\"Open In Colab\"/></a>"
      ]
    },
    {
      "cell_type": "code",
      "source": [
        "import pandas as pd\n",
        "import numpy as np\n",
        "import scipy.stats as stats\n",
        "\n",
        "def analyze_statistics(file_path):\n",
        "    # Load data from Excel\n",
        "    df = pd.read_excel(file_path)\n",
        "\n",
        "    # Ensure required columns exist\n",
        "    required_columns = ['Cni_131', 'WnECTS_131', 'WnT_131']\n",
        "    for col in required_columns:\n",
        "        if col not in df.columns:\n",
        "            raise ValueError(f\"Missing required column: {col}\")\n",
        "\n",
        "    # Compute mean and variance for different weight applications\n",
        "    mean_original = df['Cni_131'].mean()\n",
        "    variance_original = df['Cni_131'].var()\n",
        "\n",
        "    mean_variant1 = df['WnECTS_131'].mean()\n",
        "    variance_variant1 = df['WnECTS_131'].var()\n",
        "\n",
        "    mean_variant2 = df['WnT_131'].mean()\n",
        "    variance_variant2 = df['WnT_131'].var()\n",
        "\n",
        "    print(f\"Original Cni_131 - Mean: {mean_original:.4f}, Variance: {variance_original:.4f}\")\n",
        "    print(f\"WnECTS_131 - Mean: {mean_variant1:.4f}, Variance: {variance_variant1:.4f}\")\n",
        "    print(f\"WnT_131 - Mean: {mean_variant2:.4f}, Variance: {variance_variant2:.4f}\")\n",
        "\n",
        "    # Perform hypothesis testing (t-test)\n",
        "    t_stat, p_value = stats.ttest_ind(df['WnECTS_131'], df['WnT_131'], equal_var=False)\n",
        "    print(f\"T-Test between WnECTS_131 and WnT_131: t-statistic = {t_stat:.4f}, p-value = {p_value:.4f}\")\n",
        "\n",
        "    # Compute 95% confidence intervals for each weight variant\n",
        "    conf_int1 = stats.t.interval(0.95, len(df['WnECTS_131'])-1, loc=mean_variant1, scale=stats.sem(df['WnECTS_131']))\n",
        "    conf_int2 = stats.t.interval(0.95, len(df['WnT_131'])-1, loc=mean_variant2, scale=stats.sem(df['WnT_131']))\n",
        "\n",
        "    print(f\"95% Confidence Interval for WnECTS_131: {conf_int1}\")\n",
        "    print(f\"95% Confidence Interval for WnT_131: {conf_int2}\")\n",
        "\n",
        "    return {\n",
        "        \"Mean Original\": mean_original, \"Variance Original\": variance_original,\n",
        "        \"Mean WnECTS_131\": mean_variant1, \"Variance WnECTS_131\": variance_variant1,\n",
        "        \"Mean WnT_131\": mean_variant2, \"Variance WnT_131\": variance_variant2,\n",
        "        \"T-Test P-Value\": p_value,\n",
        "        \"Confidence Interval WnECTS_131\": conf_int1,\n",
        "        \"Confidence Interval WnT_131\": conf_int2\n",
        "    }\n",
        "\n",
        "# Example usage (replace 'data.xlsx' with actual file path)\n",
        "# results = analyze_statistics('data.xlsx')\n"
      ],
      "metadata": {
        "id": "LI2GSf1skink"
      },
      "execution_count": 5,
      "outputs": []
    },
    {
      "cell_type": "code",
      "source": [
        "results = analyze_statistics('/content/116-131_08032025.xlsx')\n"
      ],
      "metadata": {
        "colab": {
          "base_uri": "https://localhost:8080/"
        },
        "id": "XYj7XjCvlpa1",
        "outputId": "79f42b5d-c358-41f8-bce5-d6daf3198c7c"
      },
      "execution_count": 6,
      "outputs": [
        {
          "output_type": "stream",
          "name": "stdout",
          "text": [
            "Original Cni_131 - Mean: 0.3448, Variance: 0.8049\n",
            "WnECTS_131 - Mean: 0.2069, Variance: 0.2898\n",
            "WnT_131 - Mean: 0.0690, Variance: 0.0325\n",
            "T-Test between WnECTS_131 and WnT_131: t-statistic = 1.3085, p-value = 0.1994\n",
            "95% Confidence Interval for WnECTS_131: (0.002127874809253527, 0.41166522863902233)\n",
            "95% Confidence Interval for WnT_131: (0.0004393960284314047, 0.13749163845432721)\n"
          ]
        }
      ]
    },
    {
      "cell_type": "markdown",
      "source": [
        "1. Mean and Variance Analysis\n",
        "Original Competency Indicator (Cni_131)\n",
        "Mean = 0.3448 → The average competency indicator value across all observations.\n",
        "Variance = 0.8049 → A high variance indicates that values of Cni_131 are spread out over a large range.\n",
        "WnECTS_131 (Weight based on ECTS credits)\n",
        "Mean = 0.2069 → The average contribution of WnECTS_131 to competency.\n",
        "Variance = 0.2898 → Lower variance than Cni_131, meaning WnECTS_131 values are more tightly clustered around the mean.\n",
        "WnT_131 (Weight based on tool contribution)\n",
        "Mean = 0.0690 → The average contribution of WnT_131 to competency is smaller than WnECTS_131.\n",
        "Variance = 0.0325 → Very low variance, suggesting that WnT_131 values are closely packed and more stable."
      ],
      "metadata": {
        "id": "8_1dbO3Ym5bY"
      }
    },
    {
      "cell_type": "markdown",
      "source": [
        "2. Hypothesis Testing: T-Test between WnECTS_131 and WnT_131\n",
        "t-statistic = 1.3085 → Measures the difference between the means relative to variance.\n",
        "p-value = 0.1994 → A high p-value (> 0.05) suggests that there is no statistically significant difference between WnECTS_131 and WnT_131.\n",
        "This means the two distributions are not different enough to reject the null hypothesis."
      ],
      "metadata": {
        "id": "fbNutHwNnAAC"
      }
    },
    {
      "cell_type": "markdown",
      "source": [
        "3. Confidence Intervals (95%)\n",
        "A confidence interval provides a range within which the true mean is likely to fall with 95% certainty.\n",
        "\n",
        "Confidence Interval for WnECTS_131\n",
        "Range: (0.0021, 0.4117)\n",
        "The true mean of WnECTS_131 is likely between 0.0021 and 0.4117.\n",
        "Since this range is quite broad, it suggests some variability in the data.\n",
        "Confidence Interval for WnT_131\n",
        "Range: (0.0004, 0.1375)\n",
        "The true mean of WnT_131 is likely between 0.0004 and 0.1375.\n",
        "This is a much smaller range than WnECTS_131, indicating more precise (less variable) data."
      ],
      "metadata": {
        "id": "u5UspohBnEUy"
      }
    }
  ]
}